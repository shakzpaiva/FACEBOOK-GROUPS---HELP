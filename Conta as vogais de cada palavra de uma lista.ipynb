{
 "cells": [
  {
   "cell_type": "code",
   "execution_count": 19,
   "metadata": {},
   "outputs": [],
   "source": [
    "def conta_vogal(palavras_do_usuario):\n",
    "    lista = str.split(palavras_do_usuario,\" \")\n",
    "    vogais_por_palavra = []\n",
    "    \n",
    "    for palavra in lista:\n",
    "        contador_de_vogais = 0\n",
    "        for letra in palavra:\n",
    "            if letra in ['a','e','i','o','u']:\n",
    "                contador_de_vogais += 1\n",
    "        vogais_por_palavra.append(contador_de_vogais)\n",
    "                \n",
    "    return vogais_por_palavra\n",
    "                \n",
    "                \n",
    "    \n",
    "    "
   ]
  },
  {
   "cell_type": "code",
   "execution_count": 20,
   "metadata": {},
   "outputs": [
    {
     "data": {
      "text/plain": [
       "[3, 1, 2, 2, 1, 2]"
      ]
     },
     "execution_count": 20,
     "metadata": {},
     "output_type": "execute_result"
    }
   ],
   "source": [
    "conta_vogal('luana ju davi vivi pri cleo')"
   ]
  },
  {
   "cell_type": "code",
   "execution_count": null,
   "metadata": {},
   "outputs": [],
   "source": []
  },
  {
   "cell_type": "code",
   "execution_count": null,
   "metadata": {},
   "outputs": [],
   "source": []
  }
 ],
 "metadata": {
  "kernelspec": {
   "display_name": "Python 3",
   "language": "python",
   "name": "python3"
  },
  "language_info": {
   "codemirror_mode": {
    "name": "ipython",
    "version": 3
   },
   "file_extension": ".py",
   "mimetype": "text/x-python",
   "name": "python",
   "nbconvert_exporter": "python",
   "pygments_lexer": "ipython3",
   "version": "3.7.0"
  }
 },
 "nbformat": 4,
 "nbformat_minor": 2
}
